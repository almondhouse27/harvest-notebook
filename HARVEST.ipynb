{
 "cells": [
  {
   "cell_type": "markdown",
   "id": "cd14da94",
   "metadata": {},
   "source": [
    "<span style=\"display:block; border-top: 2px solid #39FF14;\"></span>\n"
   ]
  },
  {
   "cell_type": "markdown",
   "id": "bd1da3fb",
   "metadata": {},
   "source": [
    "# <span style=\"color:#39FF14; font-family: monospace;\">Harvest Notebook</span>\n",
    "### <span style=\"color:#39FF14; font-family: monospace;\">Almond House Analytics</span>"
   ]
  },
  {
   "cell_type": "markdown",
   "id": "f05c6276",
   "metadata": {},
   "source": [
    "<span style=\"color:#39FF14; font-family: monospace;\">\n",
    "To use the Harvest Notebook provide a list of URLs in the `data/input/url-list.csv` file.<br>\n",
    "The program is expecting a single 'url' column.<br>\n",
    "There is also an option below `To read URLs directly from code`.<br>\n",
    "To use this, make sure to comment out the cell `To read URL list from input file`.\n",
    "</span>"
   ]
  },
  {
   "cell_type": "markdown",
   "id": "2d0e0ebf",
   "metadata": {},
   "source": [
    "<span style=\"color:#39FF14; font-family: monospace;\">\n",
    "Harvest Notebook generates several output files in the `data/output` directory.<br>\n",
    "Output file `url-analysis.csv` provide general site information about each URL in the input list.<br>\n",
    "Output file `website-words.csv` provides a word count for each unique word for each URL in the input list.\n",
    "</span>"
   ]
  },
  {
   "cell_type": "markdown",
   "id": "29c62c5d",
   "metadata": {},
   "source": [
    "<span style=\"display:block; border-top: 2px solid #39FF14;\"></span>\n"
   ]
  },
  {
   "cell_type": "markdown",
   "id": "64410da7",
   "metadata": {},
   "source": [
    "### <span style=\"color:#39FF14; font-family: monospace;\">Configure Notebook</span>"
   ]
  },
  {
   "cell_type": "code",
   "execution_count": 1,
   "id": "7bf69dc6",
   "metadata": {},
   "outputs": [
    {
     "name": "stdout",
     "output_type": "stream",
     "text": [
      "Completed notebook configuration!\n"
     ]
    }
   ],
   "source": [
    "def complete(task):\n",
    "    print(f\"Completed {task}!\")\n",
    "\n",
    "def setup_output(output_dir, filename):\n",
    "    return os.path.join(output_dir, filename)\n",
    "\n",
    "from datetime import datetime\n",
    "import os\n",
    "import pandas as pd\n",
    "\n",
    "from src.robot import is_allowed\n",
    "from src.harvest import url_analysis, website_words\n",
    "\n",
    "INPUT_FILE = \"./data/input/url-list.csv\"\n",
    "OUTPUT_DIR = \"./data/output\"\n",
    "\n",
    "complete(\"notebook configuration\")"
   ]
  },
  {
   "cell_type": "markdown",
   "id": "1a94798e",
   "metadata": {},
   "source": [
    "<span style=\"display:block; border-top: 2px solid #39FF14;\"></span>\n"
   ]
  },
  {
   "cell_type": "markdown",
   "id": "62aaa90d",
   "metadata": {},
   "source": [
    "### <span style=\"color:#39FF14; font-family: monospace;\">Input Options</span>"
   ]
  },
  {
   "cell_type": "markdown",
   "id": "48d0e8c9",
   "metadata": {},
   "source": [
    "<span style=\"color:#39FF14; font-family: monospace;\">To read URL(s) directly from code:</span>"
   ]
  },
  {
   "cell_type": "code",
   "execution_count": 2,
   "id": "a805a774",
   "metadata": {},
   "outputs": [],
   "source": [
    "# urls = [\n",
    "#     \"https://www.target.com\",\n",
    "#     \"https://www.walmart.com\"\n",
    "# ]\n",
    "\n",
    "# df = pd.DataFrame(urls, columns=[\"url\"])\n",
    "\n",
    "# complete(\"dataframe loading\")"
   ]
  },
  {
   "cell_type": "markdown",
   "id": "0c2ebeda",
   "metadata": {},
   "source": [
    "<span style=\"color:#39FF14; font-family: monospace;\">To read URL list from input file:</span>"
   ]
  },
  {
   "cell_type": "code",
   "execution_count": 3,
   "id": "803d3dd5",
   "metadata": {},
   "outputs": [
    {
     "name": "stdout",
     "output_type": "stream",
     "text": [
      "Completed dataframe loading!\n"
     ]
    }
   ],
   "source": [
    "df = pd.read_csv(INPUT_FILE)\n",
    "\n",
    "complete(\"dataframe loading\")"
   ]
  },
  {
   "cell_type": "markdown",
   "id": "5935e09b",
   "metadata": {},
   "source": [
    "<span style=\"display:block; border-top: 2px solid #39FF14;\"></span>\n"
   ]
  },
  {
   "cell_type": "markdown",
   "id": "f3206ac1",
   "metadata": {},
   "source": [
    "### <span style=\"color:#39FF14; font-family: monospace;\">Configure Output</span>"
   ]
  },
  {
   "cell_type": "code",
   "execution_count": 4,
   "id": "99fd01e3",
   "metadata": {},
   "outputs": [
    {
     "name": "stdout",
     "output_type": "stream",
     "text": [
      "Completed output configuration!\n"
     ]
    }
   ],
   "source": [
    "timestamp = datetime.now().strftime('%Y-%m-%d_%H-%M-%S')\n",
    "output = os.path.join(OUTPUT_DIR, timestamp)\n",
    "os.makedirs(output, exist_ok=True)\n",
    "\n",
    "output_analysis = setup_output(output, \"url-analysis.csv\")\n",
    "output_words = setup_output(output, \"website-words.csv\")\n",
    "\n",
    "complete(\"output configuration\")"
   ]
  },
  {
   "cell_type": "markdown",
   "id": "20ce4378",
   "metadata": {},
   "source": [
    "<span style=\"display:block; border-top: 2px solid #39FF14;\"></span>\n"
   ]
  },
  {
   "cell_type": "markdown",
   "id": "17390313",
   "metadata": {},
   "source": [
    "### <span style=\"color:#39FF14; font-family: monospace;\">Collect Data from URLs</span>"
   ]
  },
  {
   "cell_type": "code",
   "execution_count": null,
   "id": "07133c49",
   "metadata": {},
   "outputs": [
    {
     "name": "stdout",
     "output_type": "stream",
     "text": [
      "Skipping https://www.tpwd.texas.gov/state-parks due to robots.txt restrictions.\n",
      "Skipping https://www.dnr.state.mn.us/state_parks due to robots.txt restrictions.\n",
      "Skipping https://www.princeton.edu due to robots.txt restrictions.\n",
      "Skipping https://www.umich.edu due to robots.txt restrictions.\n",
      "Completed harvest loop!\n",
      "Completed url analysis sort!\n",
      "Completed website words sort!\n"
     ]
    }
   ],
   "source": [
    "results_analysis = []\n",
    "results_words = []\n",
    "\n",
    "for url in df['url']:\n",
    "\n",
    "    if is_allowed(url):\n",
    "        \n",
    "        analysis_data = url_analysis(url)\n",
    "        results_analysis.append(analysis_data)\n",
    "\n",
    "        words_data = website_words(url)\n",
    "        results_words.extend(words_data)\n",
    "\n",
    "    else:\n",
    "        print(f\"Skipping {url} due to robots.txt restrictions.\")\n",
    "    \n",
    "results_analysis.sort(key=lambda x: x['url'])\n",
    "rdf_analysis = pd.DataFrame(results_analysis)\n",
    "\n",
    "results_words.sort(key=lambda x: (x['url'], x['word']))\n",
    "rdf_words = pd.DataFrame(results_words)\n",
    "\n",
    "complete(\"collect and sort\")"
   ]
  },
  {
   "cell_type": "markdown",
   "id": "922f8ad6",
   "metadata": {},
   "source": [
    "<span style=\"display:block; border-top: 2px solid #39FF14;\"></span>\n"
   ]
  },
  {
   "cell_type": "markdown",
   "id": "6874b020",
   "metadata": {},
   "source": [
    "### <span style=\"color:#39FF14; font-family: monospace;\">Process Output</span>"
   ]
  },
  {
   "cell_type": "code",
   "execution_count": null,
   "id": "232650bd",
   "metadata": {},
   "outputs": [
    {
     "name": "stdout",
     "output_type": "stream",
     "text": [
      "Completed output processing!\n"
     ]
    }
   ],
   "source": [
    "rdf_analysis.to_csv(output_analysis, index=False)\n",
    "rdf_words.to_csv(output_words, index=False)\n",
    "\n",
    "complete(\"output processing\")"
   ]
  },
  {
   "cell_type": "markdown",
   "id": "6cffe405",
   "metadata": {},
   "source": [
    "<span style=\"display:block; border-top: 2px solid #39FF14;\"></span>\n"
   ]
  }
 ],
 "metadata": {
  "kernelspec": {
   "display_name": "Python 3",
   "language": "python",
   "name": "python3"
  },
  "language_info": {
   "codemirror_mode": {
    "name": "ipython",
    "version": 3
   },
   "file_extension": ".py",
   "mimetype": "text/x-python",
   "name": "python",
   "nbconvert_exporter": "python",
   "pygments_lexer": "ipython3",
   "version": "3.12.10"
  }
 },
 "nbformat": 4,
 "nbformat_minor": 5
}
